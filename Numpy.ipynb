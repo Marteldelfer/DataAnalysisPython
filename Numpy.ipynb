{
 "cells": [
  {
   "cell_type": "markdown",
   "id": "00b3083b-849b-4afb-adba-52850f2909d8",
   "metadata": {},
   "source": [
    "# Numpy\n",
    "\n",
    "Numpy is uses pre-compiled C code to speed-up number processing in python.\n",
    "With numpy, python can be many times faster and memory-efficient than normal"
   ]
  },
  {
   "cell_type": "code",
   "execution_count": 2,
   "id": "2b8bc755-ff70-4036-8ee1-13b6ddabf0eb",
   "metadata": {},
   "outputs": [
    {
     "data": {
      "text/plain": [
       "'1.26.1'"
      ]
     },
     "execution_count": 2,
     "metadata": {},
     "output_type": "execute_result"
    }
   ],
   "source": [
    "import numpy as np\n",
    "np.__version__"
   ]
  },
  {
   "cell_type": "markdown",
   "id": "3494db7e-9ef4-4f54-b3c8-edc639619240",
   "metadata": {},
   "source": [
    "## Numpy Arrays\n",
    "\n",
    "Numpy offers powerful and efficient arrays, with the simple syntax of regular python\n",
    "\n",
    "### Creating Numpy Arrays"
   ]
  },
  {
   "cell_type": "code",
   "execution_count": 3,
   "id": "ab5f7e15-88b9-4386-ba02-5cf2ce9a68be",
   "metadata": {},
   "outputs": [
    {
     "data": {
      "text/plain": [
       "array([1, 2, 3, 4])"
      ]
     },
     "execution_count": 3,
     "metadata": {},
     "output_type": "execute_result"
    }
   ],
   "source": [
    "np.array([1,2,3,4]) # np.array() receives a list as parameter and returns a numpy array"
   ]
  },
  {
   "cell_type": "markdown",
   "id": "94e1e9fa-9dfc-4335-8ec9-196b9c88df62",
   "metadata": {},
   "source": [
    "Numpy arrays are much more efficient than python lists, but are strongly typed and can't be modified\n",
    "It's optimal use is with numbers (int and float), althoug it can receive strings and object\n",
    "\n",
    "You can specify the data type using the **dtype** parameter in np.array() (the default is int64)"
   ]
  },
  {
   "cell_type": "code",
   "execution_count": 5,
   "id": "09b9c245-1ff3-4d8b-a6f7-246eb97bcfd8",
   "metadata": {},
   "outputs": [
    {
     "data": {
      "text/plain": [
       "dtype('int64')"
      ]
     },
     "execution_count": 5,
     "metadata": {},
     "output_type": "execute_result"
    }
   ],
   "source": [
    "np.array([1,2,3,4]).dtype"
   ]
  },
  {
   "cell_type": "code",
   "execution_count": 7,
   "id": "ce249b8a-9705-4eb7-9c19-6fc0810ade6b",
   "metadata": {},
   "outputs": [
    {
     "data": {
      "text/plain": [
       "dtype('float64')"
      ]
     },
     "execution_count": 7,
     "metadata": {},
     "output_type": "execute_result"
    }
   ],
   "source": [
    "np.array([1,2,3,4], dtype = 'float').dtype #same values, but diferent types"
   ]
  },
  {
   "cell_type": "markdown",
   "id": "98aa60f3-7910-4867-bc8b-1b7c03450020",
   "metadata": {},
   "source": [
    "### Multidimensional Arrays\n",
    "\n",
    "Numpy can create multidimensional arrays (or matrices), by simply passing a regular matrix as parameter in the array() method"
   ]
  },
  {
   "cell_type": "code",
   "execution_count": 8,
   "id": "0edaf327-fd2e-4b3b-a0a5-18e8f3fd21c3",
   "metadata": {},
   "outputs": [
    {
     "data": {
      "text/plain": [
       "array([[1, 2, 3],\n",
       "       [4, 5, 6],\n",
       "       [7, 8, 9]])"
      ]
     },
     "execution_count": 8,
     "metadata": {},
     "output_type": "execute_result"
    }
   ],
   "source": [
    "np.array([\n",
    "    [1,2,3],\n",
    "    [4,5,6],\n",
    "    [7,8,9]\n",
    "])"
   ]
  },
  {
   "cell_type": "markdown",
   "id": "470d7eea-fef2-4c24-87cb-8ab1bfdba2b7",
   "metadata": {},
   "source": [
    "You can easily access lines, elements and even collumns in this matrix"
   ]
  },
  {
   "cell_type": "code",
   "execution_count": 9,
   "id": "f7aebad7-9ffe-4270-bb16-38cceda76373",
   "metadata": {},
   "outputs": [
    {
     "data": {
      "text/plain": [
       "array([1, 2, 3])"
      ]
     },
     "execution_count": 9,
     "metadata": {},
     "output_type": "execute_result"
    }
   ],
   "source": [
    "a = np.array([\n",
    "    [1,2,3],\n",
    "    [4,5,6],\n",
    "    [7,8,9]\n",
    "])\n",
    "a[0] #line"
   ]
  },
  {
   "cell_type": "code",
   "execution_count": 10,
   "id": "8d77e445-0706-4b56-a22d-654ba5d8d8f9",
   "metadata": {},
   "outputs": [
    {
     "data": {
      "text/plain": [
       "1"
      ]
     },
     "execution_count": 10,
     "metadata": {},
     "output_type": "execute_result"
    }
   ],
   "source": [
    "a[0,0] #element"
   ]
  },
  {
   "cell_type": "code",
   "execution_count": 11,
   "id": "4728e4af-fb02-4907-b40b-16da2c9a217f",
   "metadata": {},
   "outputs": [
    {
     "data": {
      "text/plain": [
       "array([1, 4, 7])"
      ]
     },
     "execution_count": 11,
     "metadata": {},
     "output_type": "execute_result"
    }
   ],
   "source": [
    "a[:, 0] #collumn, using slicing"
   ]
  },
  {
   "cell_type": "markdown",
   "id": "e0134f51-aae4-4393-bed1-2c72ce3eba0b",
   "metadata": {},
   "source": [
    "You can also use tridimensional arrays, and even more"
   ]
  },
  {
   "cell_type": "code",
   "execution_count": 17,
   "id": "57ed1070-6d94-4981-8f4a-5f10858e223f",
   "metadata": {},
   "outputs": [
    {
     "data": {
      "text/plain": [
       "array([[1, 3],\n",
       "       [5, 7]])"
      ]
     },
     "execution_count": 17,
     "metadata": {},
     "output_type": "execute_result"
    }
   ],
   "source": [
    "b = np.array([\n",
    "    [\n",
    "        [1,2],\n",
    "        [3,4]\n",
    "    ],\n",
    "    [\n",
    "        [5,6],\n",
    "        [7,8]\n",
    "    ]\n",
    "])\n",
    "b[:, :, 0]"
   ]
  },
  {
   "cell_type": "markdown",
   "id": "56b4b6b4-d925-4573-90f8-d55b4bae78b1",
   "metadata": {},
   "source": [
    "## Operations With Arrays\n",
    "\n",
    "One of the most powerful features of numpy, allows you to sum, subtract, divide and multiple arrays by any number and even by each other"
   ]
  },
  {
   "cell_type": "code",
   "execution_count": 19,
   "id": "e54f3f89-951c-4a68-94b5-2089840126d7",
   "metadata": {},
   "outputs": [
    {
     "data": {
      "text/plain": [
       "array([[1, 2, 3],\n",
       "       [4, 5, 6],\n",
       "       [7, 8, 9]])"
      ]
     },
     "execution_count": 19,
     "metadata": {},
     "output_type": "execute_result"
    }
   ],
   "source": [
    "a"
   ]
  },
  {
   "cell_type": "code",
   "execution_count": 21,
   "id": "4e7d7d6e-6f62-4484-8161-281db36a93e2",
   "metadata": {},
   "outputs": [
    {
     "data": {
      "text/plain": [
       "array([[11, 12, 13],\n",
       "       [14, 15, 16],\n",
       "       [17, 18, 19]])"
      ]
     },
     "execution_count": 21,
     "metadata": {},
     "output_type": "execute_result"
    }
   ],
   "source": [
    "a + 10 #sum"
   ]
  },
  {
   "cell_type": "code",
   "execution_count": 22,
   "id": "118a89ad-fcd9-4e05-a446-9df74773b722",
   "metadata": {},
   "outputs": [
    {
     "data": {
      "text/plain": [
       "array([[-9, -8, -7],\n",
       "       [-6, -5, -4],\n",
       "       [-3, -2, -1]])"
      ]
     },
     "execution_count": 22,
     "metadata": {},
     "output_type": "execute_result"
    }
   ],
   "source": [
    "a - 10 #subtraction"
   ]
  },
  {
   "cell_type": "code",
   "execution_count": 23,
   "id": "4ed5acf7-514b-4ec5-bece-ab97c017675a",
   "metadata": {},
   "outputs": [
    {
     "data": {
      "text/plain": [
       "array([[10, 20, 30],\n",
       "       [40, 50, 60],\n",
       "       [70, 80, 90]])"
      ]
     },
     "execution_count": 23,
     "metadata": {},
     "output_type": "execute_result"
    }
   ],
   "source": [
    "a * 10 #multiplication"
   ]
  },
  {
   "cell_type": "code",
   "execution_count": 24,
   "id": "4f75d364-c164-470c-851c-d9e535e07d53",
   "metadata": {},
   "outputs": [
    {
     "data": {
      "text/plain": [
       "array([[0.1, 0.2, 0.3],\n",
       "       [0.4, 0.5, 0.6],\n",
       "       [0.7, 0.8, 0.9]])"
      ]
     },
     "execution_count": 24,
     "metadata": {},
     "output_type": "execute_result"
    }
   ],
   "source": [
    "a / 10 #division"
   ]
  },
  {
   "cell_type": "code",
   "execution_count": 26,
   "id": "87be0e15-50c3-4905-928b-d47011c6a4f8",
   "metadata": {},
   "outputs": [
    {
     "data": {
      "text/plain": [
       "array([[ 2,  4,  6],\n",
       "       [ 8, 10, 12],\n",
       "       [14, 16, 18]])"
      ]
     },
     "execution_count": 26,
     "metadata": {},
     "output_type": "execute_result"
    }
   ],
   "source": [
    "a + a #sum of two matrices"
   ]
  },
  {
   "cell_type": "code",
   "execution_count": 27,
   "id": "98cdd69c-6190-4bc9-8a7b-fdebbcaa83d8",
   "metadata": {},
   "outputs": [
    {
     "data": {
      "text/plain": [
       "array([[ 1,  4,  9],\n",
       "       [16, 25, 36],\n",
       "       [49, 64, 81]])"
      ]
     },
     "execution_count": 27,
     "metadata": {},
     "output_type": "execute_result"
    }
   ],
   "source": [
    "a * a #multiplication of two matrices"
   ]
  },
  {
   "cell_type": "code",
   "execution_count": 28,
   "id": "2fad4b23-00d3-4db3-a80b-1e50de1970e7",
   "metadata": {},
   "outputs": [
    {
     "data": {
      "text/plain": [
       "array([[        1,         4,        27],\n",
       "       [      256,      3125,     46656],\n",
       "       [   823543,  16777216, 387420489]])"
      ]
     },
     "execution_count": 28,
     "metadata": {},
     "output_type": "execute_result"
    }
   ],
   "source": [
    "a ** a #power of two matrices"
   ]
  },
  {
   "cell_type": "markdown",
   "id": "59a4d3db-085a-4133-b749-050932d3b925",
   "metadata": {},
   "source": [
    "You can even use logic operators"
   ]
  },
  {
   "cell_type": "code",
   "execution_count": 30,
   "id": "960469c9-6af7-4dd3-935c-2fcf881bba30",
   "metadata": {},
   "outputs": [
    {
     "data": {
      "text/plain": [
       "array([[False, False, False],\n",
       "       [False, False,  True],\n",
       "       [ True,  True,  True]])"
      ]
     },
     "execution_count": 30,
     "metadata": {},
     "output_type": "execute_result"
    }
   ],
   "source": [
    "a > 5"
   ]
  },
  {
   "cell_type": "code",
   "execution_count": 31,
   "id": "9b0683d5-23d2-4546-9574-cebb1d35138a",
   "metadata": {},
   "outputs": [
    {
     "data": {
      "text/plain": [
       "array([[False,  True, False],\n",
       "       [ True, False,  True],\n",
       "       [False,  True, False]])"
      ]
     },
     "execution_count": 31,
     "metadata": {},
     "output_type": "execute_result"
    }
   ],
   "source": [
    "a % 2 == 0"
   ]
  },
  {
   "cell_type": "code",
   "execution_count": 35,
   "id": "0006dded-4418-4200-a5d2-8bc1ff297ef5",
   "metadata": {},
   "outputs": [
    {
     "data": {
      "text/plain": [
       "array([[ True,  True, False],\n",
       "       [False, False, False],\n",
       "       [False, False, False]])"
      ]
     },
     "execution_count": 35,
     "metadata": {},
     "output_type": "execute_result"
    }
   ],
   "source": [
    "(a * a) <= (a + a)"
   ]
  },
  {
   "cell_type": "markdown",
   "id": "143591d5-b159-4db0-9bf8-8a9c0b8c406c",
   "metadata": {},
   "source": [
    "With this, you can basically filter any array by a condition"
   ]
  },
  {
   "cell_type": "code",
   "execution_count": 36,
   "id": "fbfb8996-0bfe-4be4-95bc-73cc89492297",
   "metadata": {},
   "outputs": [
    {
     "data": {
      "text/plain": [
       "array([1, 3, 5, 7, 9])"
      ]
     },
     "execution_count": 36,
     "metadata": {},
     "output_type": "execute_result"
    }
   ],
   "source": [
    "a[a % 2 == 1] #every odd number in a"
   ]
  },
  {
   "cell_type": "markdown",
   "id": "66662a06-b5d4-497e-ac80-29a29627a3ae",
   "metadata": {},
   "source": [
    "### Array methods\n",
    "\n",
    "Numpy has many pre-built methods with arrays, such as:"
   ]
  },
  {
   "cell_type": "code",
   "execution_count": 37,
   "id": "bf899e5e-3596-45b7-abbd-b04b329b4e89",
   "metadata": {},
   "outputs": [
    {
     "data": {
      "text/plain": [
       "45"
      ]
     },
     "execution_count": 37,
     "metadata": {},
     "output_type": "execute_result"
    }
   ],
   "source": [
    "a.sum() #sum of every element in array"
   ]
  },
  {
   "cell_type": "code",
   "execution_count": 38,
   "id": "f52c78ff-f922-444f-9f40-843c9cd2587f",
   "metadata": {},
   "outputs": [
    {
     "data": {
      "text/plain": [
       "5.0"
      ]
     },
     "execution_count": 38,
     "metadata": {},
     "output_type": "execute_result"
    }
   ],
   "source": [
    "a.mean() #mean of every element"
   ]
  },
  {
   "cell_type": "code",
   "execution_count": 39,
   "id": "61d6d06d-b05b-4440-8464-47e2f3aa97db",
   "metadata": {},
   "outputs": [
    {
     "data": {
      "text/plain": [
       "2.581988897471611"
      ]
     },
     "execution_count": 39,
     "metadata": {},
     "output_type": "execute_result"
    }
   ],
   "source": [
    "a.std() #standart deviation of array"
   ]
  },
  {
   "cell_type": "code",
   "execution_count": 41,
   "id": "a4986c0c-9ab6-4bab-8172-46dc56f87e15",
   "metadata": {},
   "outputs": [
    {
     "data": {
      "text/plain": [
       "6.666666666666667"
      ]
     },
     "execution_count": 41,
     "metadata": {},
     "output_type": "execute_result"
    }
   ],
   "source": [
    "a.var() #variance of array"
   ]
  },
  {
   "cell_type": "code",
   "execution_count": null,
   "id": "fe705922-ef56-49d1-8613-eebbc6230da5",
   "metadata": {},
   "outputs": [],
   "source": [
    "## Conclusion\n",
    "\n",
    "Numpy is basically this. There's still a lot of methods and details within numpy, but the the core is "
   ]
  }
 ],
 "metadata": {
  "kernelspec": {
   "display_name": "Python 3 (ipykernel)",
   "language": "python",
   "name": "python3"
  },
  "language_info": {
   "codemirror_mode": {
    "name": "ipython",
    "version": 3
   },
   "file_extension": ".py",
   "mimetype": "text/x-python",
   "name": "python",
   "nbconvert_exporter": "python",
   "pygments_lexer": "ipython3",
   "version": "3.10.12"
  }
 },
 "nbformat": 4,
 "nbformat_minor": 5
}
